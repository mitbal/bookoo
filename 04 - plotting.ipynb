{
 "cells": [
  {
   "cell_type": "markdown",
   "metadata": {},
   "source": [
    "# Bab 4 Plot Grafik"
   ]
  },
  {
   "cell_type": "markdown",
   "metadata": {},
   "source": [
    "> If a picture paint a thousand words, then why can't I paint you?\n",
    "\n",
    "Begitulah potongan lagu [If dari band Bread](https://www.youtube.com/watch?v=5a_4fBH_7dk) (duh, bocor deh umur saya) yang menggambarkan (pun intended) bagaimana suatu gambar (*tetot* mengulang kata gambar) dapat menyampaikan pesan yang sangat banyak.\n",
    "\n",
    "Pun demikian juga dalam hal science. Satu plot yang singkat, padat, jelas, dan tepat, akan dengan mudah mengalahkan deskripsi satu paragraf yang lebih panjang, sehingga audiens dapat lebih mudah menarik kesimpulan.\n",
    "\n",
    "Plotting merupakan salah satu kekuatan python sebagai senjata utama data scientist. Ada banyak pilihan library"
   ]
  },
  {
   "cell_type": "markdown",
   "metadata": {},
   "source": [
    "## Basic plotting dengan matplotlib\n",
    "\n",
    "Matplotlib adalah de facto library plotting pilihan pertama oleh python user."
   ]
  },
  {
   "cell_type": "markdown",
   "metadata": {},
   "source": [
    "Seperti biasa untuk memulai menggunakan matplotlib kita harus impor terlebih dahulu"
   ]
  },
  {
   "cell_type": "code",
   "execution_count": 1,
   "metadata": {
    "collapsed": true
   },
   "outputs": [],
   "source": [
    "import matplotlib.pyplot as plt\n",
    "%matplotlib inline"
   ]
  },
  {
   "cell_type": "markdown",
   "metadata": {},
   "source": [
    "Kita akan berinteraksi memanipulasi grafik dengan menggunakan interface plt ini. Perintah `%matplotlib inline` sendiri gunanya agar gambarnya muncul secara otomatis di bawah cell tempat plot, tidak pop up menjadi window terpisah"
   ]
  },
  {
   "cell_type": "markdown",
   "metadata": {},
   "source": [
    "#### Line plot\n",
    "Mungkin plot paling sederhana yang bisa digambarkan adalah line plot. Ini bisa digunakan misalkan Anda mempunyai beberapa data point dan kemudian ingin menarik garik lurus antar titik untuk kira-kira mencari tahu nilai antara dua titik tersebut. \n",
    "\n",
    "Fungsi plot menerima tipe data apapun, selama sifatnya iterables"
   ]
  },
  {
   "cell_type": "code",
   "execution_count": 20,
   "metadata": {},
   "outputs": [
    {
     "data": {
      "image/png": "[encoded data removed]",
      "text/plain": [
       "<matplotlib.figure.Figure at 0x7f2352013510>"
      ]
     },
     "metadata": {},
     "output_type": "display_data"
    }
   ],
   "source": [
    "x = range(5)\n",
    "plt.plot(x)\n",
    "plt.show()"
   ]
  },
  {
   "cell_type": "markdown",
   "metadata": {},
   "source": [
    "Kalau misalkan ada beberapa garis yang ingin digambar, cukup panggil fungsi plot berkali-kali sebelum memanggil fungsi show(). Matplotlib akan menggunakan warna berbeda untuk ke garis yang berbeda juga"
   ]
  },
  {
   "cell_type": "code",
   "execution_count": 21,
   "metadata": {},
   "outputs": [
    {
     "data": {
      "image/png": "[encoded data removed]",
      "text/plain": [
       "<matplotlib.figure.Figure at 0x7f2351f885d0>"
      ]
     },
     "metadata": {},
     "output_type": "display_data"
    }
   ],
   "source": [
    "y1 = [x**2 for x in range(5)]\n",
    "y2 = [x**3 for x in range(5)]\n",
    "y3 = [x**4 for x in range(5)]\n",
    "\n",
    "plt.plot(y1)\n",
    "plt.plot(y2)\n",
    "plt.plot(y3)\n",
    "plt.show()"
   ]
  },
  {
   "cell_type": "markdown",
   "metadata": {},
   "source": [
    "#### Scatter plot"
   ]
  },
  {
   "cell_type": "markdown",
   "metadata": {},
   "source": [
    "#### histogram plot"
   ]
  },
  {
   "cell_type": "markdown",
   "metadata": {},
   "source": [
    "### Kostumisasi plot\n",
    "\n",
    "Hmmm, plot gambarnya keluar, tetapi jiwa artistik Anda tergugah untuk melakukan berbagai perubahan elemen ke gambar agar tampak lebih elok dan sedap dipandang"
   ]
  },
  {
   "cell_type": "markdown",
   "metadata": {},
   "source": [
    "#### Subplot"
   ]
  },
  {
   "cell_type": "code",
   "execution_count": null,
   "metadata": {
    "collapsed": true
   },
   "outputs": [],
   "source": [
    "Kalau misalkan "
   ]
  },
  {
   "cell_type": "markdown",
   "metadata": {},
   "source": [
    "## Seaborn, matplotlib++\n",
    "\n",
    "Kita telah dapati bahwa matplotlib sangat powerful untuk melakukan segala jenis plot yang bisa diimajinasikan oleh manusia. Sangat fleksibel.\n",
    "\n",
    "Seaborn mengambil pendekatan lain, yaitu convention over configuration. Ini artinya untuk mendapatkan satu plot standar dalam. Seaborn berfungsi sebagai high-level wrapper dari matplotlib untuk menciptakan grafik plot yang lebih indah dan renyah di mata."
   ]
  },
  {
   "cell_type": "code",
   "execution_count": null,
   "metadata": {
    "collapsed": true
   },
   "outputs": [],
   "source": []
  }
 ],
 "metadata": {
  "kernelspec": {
   "display_name": "Python 2",
   "language": "python",
   "name": "python2"
  },
  "language_info": {
   "codemirror_mode": {
    "name": "ipython",
    "version": 2
   },
   "file_extension": ".py",
   "mimetype": "text/x-python",
   "name": "python",
   "nbconvert_exporter": "python",
   "pygments_lexer": "ipython2",
   "version": "2.7.6"
  }
 },
 "nbformat": 4,
 "nbformat_minor": 2
}
