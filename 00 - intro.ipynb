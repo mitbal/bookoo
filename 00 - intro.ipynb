{
 "cells": [
  {
   "cell_type": "markdown",
   "metadata": {},
   "source": [
    "# Data Science Praktis dengan Python"
   ]
  },
  {
   "cell_type": "markdown",
   "metadata": {},
   "source": [
    "## Apa itu data science?\n",
    "\n",
    "Data science adalah cabang disiplin ilmu yang unik karena menggabungkan pengetahuan bisnis dengan matematika dan programming/engineering yang digunakan untuk menyelesaikan masalah \n",
    "\n",
    "Sebagai bidang disiplin yang masih tergolong muda, data science masih bisa berkembang menjadi hal lain atau bahkan melebur ke dalam role lain nantinya di masa depan."
   ]
  },
  {
   "cell_type": "markdown",
   "metadata": {},
   "source": [
    "## Mengapa python?\n",
    "\n",
    "Ketika membicarakan bahasa pemrograman yang digunakan di data science, maka opsi yang banyak beredar adalah dua, Python dan R. Tentunya bahasa pemrograman lain tetap bisa juga digunakan, tetapi biasanya lebih sulit untuk dipakai dan hanya dijadikan pilihan ketika ada kebutuhan khusus, misalkan untuk sistem terdistribusi.\n",
    "\n",
    "Secara dasarnya, Python termasuk ke dalam general-purpose programming language. Yang artinya semua yang bisa dilakukan bahasa pemrograman lain, seperti mengembangkan web, memprogram hardware, dan lainnya bisa dilakukan juga dengan Python. Namun Python tentunya memiliki kelebihan dibandingkan bahasa-bahasa lain tersebut sehingga bisa dibilang menjadi de facto bahasa untuk melakukan data science.\n",
    "\n",
    "Salah satunya adalah bahasanya yang secara sintaks mudah dimengerti atau dekat dengan bahasa manusia. Bahkan untuk user yang belum pernah belajar bahasa pemrograman sebelumnya dapat mempelajari Python dengan cepat. Apalagi programmer berpengalaman yang pindah dari bahasa sebelumnya. Karena kemudahannya inilah para user dengan mudah pula mengembangkan library yang kemudian menjadi engine utama untuk banyak pekerjaan data science.\n",
    "\n",
    "Dan itulah kelebihan keduanya, ekosistem library yang ada di dalamnya. Apabila ada kebutuhan tertentu di data science, kemungkinan besar sudah ada library untuk mengerjakan hal tersebut. Empat package utama yang hampir selalu dipakai di setiap proyek data science adalah numpy, pandas, matplotlib, dan scikit-learn. Empat library ini pulalah yang akan dibahas secara detail dalam buku ini."
   ]
  },
  {
   "cell_type": "markdown",
   "metadata": {},
   "source": [
    "## Motivasi\n",
    "\n",
    "Salah satu motivasi saya menulis buku ini adalah sebagai catatan intisari apa saja yang saya pernah pelajari semenjak memulai berkecimpung di bidang ini, baik ketika dari jenjang kuliah hingga sekarang berkarir di industri.\n",
    "\n",
    "Diharapkan buku ini dapat dimanfaatkan oleh semua kalangan, baik mahasiswa, pelajar, atau lulusan baru yang akan hendak memulai karirnya di data science. Ataupun yang sudah jauh berpengalaman sekalipun, sebagai buku acuan dan quick refresher ketika butuh suatu saat nantinya.\n",
    "\n",
    "Harapan lainnya tentu agar data science bisa berkembang lebih pesat lagi di tanah Indonesia dan tidak kalah dengan negara-negara lainnya.\n",
    "\n",
    "Salam."
   ]
  }
 ],
 "metadata": {
  "kernelspec": {
   "display_name": "Python 2",
   "language": "python",
   "name": "python2"
  },
  "language_info": {
   "codemirror_mode": {
    "name": "ipython",
    "version": 2
   },
   "file_extension": ".py",
   "mimetype": "text/x-python",
   "name": "python",
   "nbconvert_exporter": "python",
   "pygments_lexer": "ipython2",
   "version": "2.7.13"
  }
 },
 "nbformat": 4,
 "nbformat_minor": 2
}
